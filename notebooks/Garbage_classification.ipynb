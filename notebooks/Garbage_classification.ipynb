{
 "cells": [
  {
   "cell_type": "markdown",
   "id": "2ck1ncWDpMkr",
   "metadata": {
    "id": "2ck1ncWDpMkr"
   },
   "source": [
    "# ✨🌍 **Classification des ordures** 🌍✨"
   ]
  },
  {
   "cell_type": "markdown",
   "id": "ZpVg1QH2pco2",
   "metadata": {
    "id": "ZpVg1QH2pco2"
   },
   "source": [
    "## 🧑‍🤝‍🧑 Membres du groupe"
   ]
  },
  {
   "cell_type": "markdown",
   "id": "PHFwDi8QpeoO",
   "metadata": {
    "id": "PHFwDi8QpeoO"
   },
   "source": [
    "1. 👤 FATOU MBOUP\n",
    "2. 👤 FATOU KINÉ NDIAYE\n",
    "3. 👤 BINTOU TENNING NGOM"
   ]
  },
  {
   "cell_type": "markdown",
   "id": "6OUJTWW8qJUw",
   "metadata": {
    "id": "6OUJTWW8qJUw"
   },
   "source": [
    "## 📄✨ Description du projet"
   ]
  },
  {
   "cell_type": "markdown",
   "id": "gPXEj2GEqPmY",
   "metadata": {
    "id": "gPXEj2GEqPmY"
   },
   "source": [
    "Ce projet a pour objectif de classifier les ordures en différentes catégories telles que plastique, papier, métal, déchets, verre, et carton. Nous essaierons de développer un modèle de classification précis et efficace."
   ]
  },
  {
   "cell_type": "markdown",
   "id": "wd-JS7ZoqXBL",
   "metadata": {
    "id": "wd-JS7ZoqXBL"
   },
   "source": [
    "## 📂🔗 **Montage de Google Drive**"
   ]
  },
  {
   "cell_type": "code",
   "execution_count": 1,
   "id": "uV90AtV976Ft",
   "metadata": {
    "colab": {
     "base_uri": "https://localhost:8080/"
    },
    "executionInfo": {
     "elapsed": 2400,
     "status": "ok",
     "timestamp": 1723055412178,
     "user": {
      "displayName": "Bintou Tenning NGOM",
      "userId": "04910365464779581470"
     },
     "user_tz": 0
    },
    "id": "uV90AtV976Ft",
    "outputId": "5180fbbe-661e-4949-99d9-55d2268506b8"
   },
   "outputs": [
    {
     "ename": "ModuleNotFoundError",
     "evalue": "No module named 'google.colab'",
     "output_type": "error",
     "traceback": [
      "\u001b[0;31m---------------------------------------------------------------------------\u001b[0m",
      "\u001b[0;31mModuleNotFoundError\u001b[0m                       Traceback (most recent call last)",
      "Cell \u001b[0;32mIn[1], line 1\u001b[0m\n\u001b[0;32m----> 1\u001b[0m \u001b[38;5;28;01mfrom\u001b[39;00m \u001b[38;5;21;01mgoogle\u001b[39;00m\u001b[38;5;21;01m.\u001b[39;00m\u001b[38;5;21;01mcolab\u001b[39;00m \u001b[38;5;28;01mimport\u001b[39;00m drive\n\u001b[1;32m      2\u001b[0m drive\u001b[38;5;241m.\u001b[39mmount(\u001b[38;5;124m'\u001b[39m\u001b[38;5;124m/content/drive\u001b[39m\u001b[38;5;124m'\u001b[39m)\n",
      "\u001b[0;31mModuleNotFoundError\u001b[0m: No module named 'google.colab'"
     ]
    }
   ],
   "source": [
    "from google.colab import drive\n",
    "drive.mount('/content/drive')"
   ]
  },
  {
   "cell_type": "code",
   "execution_count": null,
   "id": "UHyfUGp5zMfK",
   "metadata": {
    "colab": {
     "base_uri": "https://localhost:8080/"
    },
    "executionInfo": {
     "elapsed": 33,
     "status": "ok",
     "timestamp": 1723055412184,
     "user": {
      "displayName": "Bintou Tenning NGOM",
      "userId": "04910365464779581470"
     },
     "user_tz": 0
    },
    "id": "UHyfUGp5zMfK",
    "outputId": "1f209111-779f-4729-ebe9-2751ba991da3"
   },
   "outputs": [],
   "source": [
    "cd /content/drive/MyDrive/Cours/Informatique/Dic3/Cours/MLOPS/Projet_MLOps/MLOPS_Project"
   ]
  },
  {
   "cell_type": "code",
   "execution_count": null,
   "id": "VeMhnADOyr0X",
   "metadata": {
    "colab": {
     "base_uri": "https://localhost:8080/",
     "height": 35
    },
    "executionInfo": {
     "elapsed": 30,
     "status": "ok",
     "timestamp": 1723055412185,
     "user": {
      "displayName": "Bintou Tenning NGOM",
      "userId": "04910365464779581470"
     },
     "user_tz": 0
    },
    "id": "VeMhnADOyr0X",
    "outputId": "b134645d-5357-4aaf-9dcd-6a463ec678e2"
   },
   "outputs": [],
   "source": [
    "pwd"
   ]
  },
  {
   "cell_type": "markdown",
   "id": "wMbqfmpHqdL8",
   "metadata": {
    "id": "wMbqfmpHqdL8"
   },
   "source": [
    "## 📦✨ Installation des Bibliothèques pour Colab"
   ]
  },
  {
   "cell_type": "code",
   "execution_count": null,
   "id": "PeWvzRUdCsb6",
   "metadata": {
    "colab": {
     "base_uri": "https://localhost:8080/"
    },
    "executionInfo": {
     "elapsed": 14960,
     "status": "ok",
     "timestamp": 1723055427124,
     "user": {
      "displayName": "Bintou Tenning NGOM",
      "userId": "04910365464779581470"
     },
     "user_tz": 0
    },
    "id": "PeWvzRUdCsb6",
    "outputId": "1e0bf0a5-4659-4c5a-c598-f414215790dd"
   },
   "outputs": [],
   "source": [
    "#For colab\n",
    "!pip install pyngrok\n",
    "\n",
    "#For Colab\n",
    "!pip install pendulum\n",
    "#For Colab\n",
    "!pip install ydata_profiling\n",
    "!pip install mlflow\n",
    "#For Colab\n",
    "!pip install loguru\n"
   ]
  },
  {
   "cell_type": "markdown",
   "id": "d399b59e-96bc-4b22-afc7-a1010ca9fd48",
   "metadata": {
    "id": "d399b59e-96bc-4b22-afc7-a1010ca9fd48"
   },
   "source": [
    "## 📥🔧 Importation des Modules"
   ]
  },
  {
   "cell_type": "code",
   "execution_count": null,
   "id": "d3f5331f-67ad-46d5-b8df-b1c4bbe2b032",
   "metadata": {
    "executionInfo": {
     "elapsed": 22512,
     "status": "ok",
     "timestamp": 1723055449606,
     "user": {
      "displayName": "Bintou Tenning NGOM",
      "userId": "04910365464779581470"
     },
     "user_tz": 0
    },
    "id": "d3f5331f-67ad-46d5-b8df-b1c4bbe2b032"
   },
   "outputs": [],
   "source": [
    "# Magics\n",
    "%reload_ext autoreload\n",
    "%autoreload 2\n",
    "\n",
    "# Importations de bibliothèques Python\n",
    "import cv2\n",
    "import matplotlib.pyplot as plt\n",
    "import mlflow\n",
    "import numpy as np\n",
    "import os\n",
    "import pandas as pd\n",
    "import pendulum\n",
    "import random\n",
    "import sys\n",
    "import tensorflow as tf\n",
    "from collections import Counter\n",
    "from datetime import datetime\n",
    "from loguru import logger\n",
    "from pathlib import Path\n",
    "from pyngrok import ngrok\n",
    "from sklearn.metrics import accuracy_score, auc, log_loss, precision_score, recall_score, roc_curve\n",
    "from sklearn.model_selection import train_test_split\n",
    "from sklearn.preprocessing import LabelBinarizer, label_binarize, LabelEncoder\n",
    "from sklearn.utils import shuffle\n",
    "from tensorflow.keras.applications import MobileNetV2, VGG16, DenseNet121\n",
    "from tensorflow.keras.callbacks import EarlyStopping, ReduceLROnPlateau, ModelCheckpoint\n",
    "from tensorflow.keras.layers import Dense, GlobalAveragePooling2D, BatchNormalization, Dropout\n",
    "from tensorflow.keras.losses import SparseCategoricalCrossentropy\n",
    "from tensorflow.keras.metrics import Accuracy, AUC, Precision, Recall, SparseCategoricalAccuracy\n",
    "from tensorflow.keras.models import Model, save_model, Sequential\n",
    "from tensorflow.keras.optimizers import Adam\n",
    "from tensorflow.keras.preprocessing.image import ImageDataGenerator, img_to_array, load_img\n",
    "from torch.utils.data import DataLoader, TensorDataset\n",
    "from torchvision import models\n",
    "from tqdm import tqdm\n",
    "\n",
    "# Importations de mlflow\n",
    "import mlflow.keras\n",
    "from mlflow import log_artifacts, log_metric, log_param\n",
    "from mlflow.models import infer_signature\n",
    "from mlflow.tracking import MlflowClient\n",
    "import mlflow.pytorch  # Importer mlflow.pytorch\n",
    "\n",
    "# Importations des modules personnalisés\n",
    "from settings.config import *\n",
    "from src.make_dataset import *\n",
    "from src.make_model_mobilenet import *\n",
    "from src.make_model_vgg16 import *\n",
    "from src.make_model_densenet import *\n",
    "\n",
    "# Importations de PyTorch\n",
    "\n",
    "import torch\n",
    "import torch.nn as nn\n",
    "import torch.optim as optim\n"
   ]
  },
  {
   "cell_type": "markdown",
   "id": "2eb6b22d-5686-419e-9a1c-12af9b42b7b0",
   "metadata": {
    "id": "2eb6b22d-5686-419e-9a1c-12af9b42b7b0"
   },
   "source": [
    "## 📊📖 Chargement et Prétraitement des données"
   ]
  },
  {
   "cell_type": "markdown",
   "id": "1cec61f6-9e45-4877-a295-5cbb2542e827",
   "metadata": {
    "id": "1cec61f6-9e45-4877-a295-5cbb2542e827"
   },
   "source": [
    "### 🔗✨ Settings ✨🔗"
   ]
  },
  {
   "cell_type": "code",
   "execution_count": null,
   "id": "946c5cac-9e46-47f3-b419-62d277829755",
   "metadata": {
    "colab": {
     "base_uri": "https://localhost:8080/"
    },
    "executionInfo": {
     "elapsed": 23,
     "status": "ok",
     "timestamp": 1723055449611,
     "user": {
      "displayName": "Bintou Tenning NGOM",
      "userId": "04910365464779581470"
     },
     "user_tz": 0
    },
    "id": "946c5cac-9e46-47f3-b419-62d277829755",
    "outputId": "27e0b5dc-9520-4d8c-aa59-18b52ce752ca"
   },
   "outputs": [],
   "source": [
    "# Set logging format\n",
    "log_fmt = \"<green>{time:YYYY-MM-DD HH:mm:ss.SSS!UTC}</green> | <level>{level: <8}</level> | <cyan>{name}</cyan>:<cyan>{function}</cyan>:<cyan>{line}</cyan> - {message}\"\n",
    "logger.configure(handlers=[{\"sink\": sys.stderr, \"format\": log_fmt}])\n",
    "\n",
    "# current data\n",
    "CURRENT_DATE = pendulum.now(tz=\"UTC\")\n",
    "\n",
    "# directories\n",
    "PROJECT_DIR = Path.cwd().parent\n",
    "REPORTS_DIR = Path(PROJECT_DIR, \"reports\")\n",
    "\n",
    "logger.info(f\"\\nProject directory: {PROJECT_DIR} \\nReports dir: {REPORTS_DIR}\")"
   ]
  },
  {
   "cell_type": "markdown",
   "id": "ececbd98-9c4f-4a06-94fd-1ec89229c633",
   "metadata": {
    "id": "ececbd98-9c4f-4a06-94fd-1ec89229c633"
   },
   "source": [
    "### 🔋✨ Load Data ✨🔋"
   ]
  },
  {
   "cell_type": "code",
   "execution_count": null,
   "id": "a60f0ef5-50ab-4739-adb6-6ffdeeb90ada",
   "metadata": {
    "executionInfo": {
     "elapsed": 557,
     "status": "ok",
     "timestamp": 1723055450153,
     "user": {
      "displayName": "Bintou Tenning NGOM",
      "userId": "04910365464779581470"
     },
     "user_tz": 0
    },
    "id": "a60f0ef5-50ab-4739-adb6-6ffdeeb90ada"
   },
   "outputs": [],
   "source": [
    "base_dir = 'Garbage_classification'"
   ]
  },
  {
   "cell_type": "code",
   "execution_count": null,
   "id": "b315ae8c-50c8-485d-8fe5-da136ed8f977",
   "metadata": {
    "colab": {
     "base_uri": "https://localhost:8080/"
    },
    "executionInfo": {
     "elapsed": 37122,
     "status": "ok",
     "timestamp": 1723055487268,
     "user": {
      "displayName": "Bintou Tenning NGOM",
      "userId": "04910365464779581470"
     },
     "user_tz": 0
    },
    "id": "b315ae8c-50c8-485d-8fe5-da136ed8f977",
    "outputId": "624d5b9d-4f18-409a-bb09-ac912667e276",
    "scrolled": true
   },
   "outputs": [],
   "source": [
    "imgs_data,labels_data, class_names = load_data(base_dir)"
   ]
  },
  {
   "cell_type": "code",
   "execution_count": null,
   "id": "76acc42e-95fc-41a9-84b7-b7576620ced2",
   "metadata": {
    "colab": {
     "base_uri": "https://localhost:8080/"
    },
    "executionInfo": {
     "elapsed": 127,
     "status": "ok",
     "timestamp": 1723055487268,
     "user": {
      "displayName": "Bintou Tenning NGOM",
      "userId": "04910365464779581470"
     },
     "user_tz": 0
    },
    "id": "76acc42e-95fc-41a9-84b7-b7576620ced2",
    "outputId": "18e8ae67-de0f-4b49-e2b6-5a63137b8544"
   },
   "outputs": [],
   "source": [
    "class_names"
   ]
  },
  {
   "cell_type": "markdown",
   "id": "22b93cd0-b37e-4b89-8414-8824c650b571",
   "metadata": {
    "id": "22b93cd0-b37e-4b89-8414-8824c650b571"
   },
   "source": [
    "📸✨ Visualization & Preprocessing ✨📸"
   ]
  },
  {
   "cell_type": "markdown",
   "id": "3mkQsPvOtN0R",
   "metadata": {
    "id": "3mkQsPvOtN0R"
   },
   "source": [
    "### 📖✨ Visualization ✨📖"
   ]
  },
  {
   "cell_type": "code",
   "execution_count": null,
   "id": "4d2f1b80-3671-42cd-af2a-693814ad8afa",
   "metadata": {
    "colab": {
     "base_uri": "https://localhost:8080/",
     "height": 564
    },
    "executionInfo": {
     "elapsed": 124,
     "status": "ok",
     "timestamp": 1723055487275,
     "user": {
      "displayName": "Bintou Tenning NGOM",
      "userId": "04910365464779581470"
     },
     "user_tz": 0
    },
    "id": "4d2f1b80-3671-42cd-af2a-693814ad8afa",
    "outputId": "45f6003b-a60e-490d-e725-9a5a832b935d"
   },
   "outputs": [],
   "source": [
    "visualize_class_distribution(labels_data, class_names)"
   ]
  },
  {
   "cell_type": "code",
   "execution_count": null,
   "id": "aea9bcd0-e0ca-4cdf-9777-acdee2e2632a",
   "metadata": {
    "colab": {
     "base_uri": "https://localhost:8080/",
     "height": 1000
    },
    "executionInfo": {
     "elapsed": 2345,
     "status": "ok",
     "timestamp": 1723055489502,
     "user": {
      "displayName": "Bintou Tenning NGOM",
      "userId": "04910365464779581470"
     },
     "user_tz": 0
    },
    "id": "aea9bcd0-e0ca-4cdf-9777-acdee2e2632a",
    "outputId": "53f25768-917d-4a31-c6c5-b33566a2062a"
   },
   "outputs": [],
   "source": [
    "plot_images_from_subfolders(base_dir)"
   ]
  },
  {
   "cell_type": "code",
   "execution_count": null,
   "id": "46c4c429-75e3-429e-8d71-1ed4e268d690",
   "metadata": {
    "colab": {
     "base_uri": "https://localhost:8080/"
    },
    "executionInfo": {
     "elapsed": 11460,
     "status": "ok",
     "timestamp": 1723055500898,
     "user": {
      "displayName": "Bintou Tenning NGOM",
      "userId": "04910365464779581470"
     },
     "user_tz": 0
    },
    "id": "46c4c429-75e3-429e-8d71-1ed4e268d690",
    "outputId": "69228a8e-7f26-4de3-ad5a-19ddc3974cbb"
   },
   "outputs": [],
   "source": [
    "img_dimensions(base_dir)"
   ]
  },
  {
   "cell_type": "markdown",
   "id": "38632e8b-fe8d-4929-93b4-cf56b4ee4a35",
   "metadata": {
    "id": "38632e8b-fe8d-4929-93b4-cf56b4ee4a35"
   },
   "source": [
    "### 📊✨ Normalization & Encoding ✨📊"
   ]
  },
  {
   "cell_type": "code",
   "execution_count": null,
   "id": "146e6c61-ec42-4441-b92b-4a9deab4ded1",
   "metadata": {
    "colab": {
     "base_uri": "https://localhost:8080/"
    },
    "executionInfo": {
     "elapsed": 37221,
     "status": "ok",
     "timestamp": 1723055538092,
     "user": {
      "displayName": "Bintou Tenning NGOM",
      "userId": "04910365464779581470"
     },
     "user_tz": 0
    },
    "id": "146e6c61-ec42-4441-b92b-4a9deab4ded1",
    "outputId": "6f3969a0-67e5-48f0-db2e-440517e14963"
   },
   "outputs": [],
   "source": [
    "processed_dir = \"/content/drive/MyDrive/Cours/Informatique/Dic3/Cours/MLOPS/Projet_MLOps/processed_images\"\n",
    "data, labels = process_dataset(base_dir, processed_dir)"
   ]
  },
  {
   "cell_type": "code",
   "execution_count": null,
   "id": "ad9d712a-f7cb-45c6-8a44-7a00cb5d4849",
   "metadata": {
    "colab": {
     "base_uri": "https://localhost:8080/"
    },
    "executionInfo": {
     "elapsed": 24387,
     "status": "ok",
     "timestamp": 1723055562444,
     "user": {
      "displayName": "Bintou Tenning NGOM",
      "userId": "04910365464779581470"
     },
     "user_tz": 0
    },
    "id": "ad9d712a-f7cb-45c6-8a44-7a00cb5d4849",
    "outputId": "6df5f7fa-782c-4ce3-9b53-25e44bd6521b"
   },
   "outputs": [],
   "source": [
    "img_dimensions(processed_dir)"
   ]
  },
  {
   "cell_type": "code",
   "execution_count": null,
   "id": "4b2e2a84-f509-4d40-b61e-a004b963b093",
   "metadata": {
    "colab": {
     "base_uri": "https://localhost:8080/",
     "height": 1000,
     "output_embedded_package_id": "1NovuAKpIlWVW6KBEbizxOr0saOdLHXxH"
    },
    "executionInfo": {
     "elapsed": 39,
     "status": "ok",
     "timestamp": 1723055562444,
     "user": {
      "displayName": "Bintou Tenning NGOM",
      "userId": "04910365464779581470"
     },
     "user_tz": 0
    },
    "id": "4b2e2a84-f509-4d40-b61e-a004b963b093",
    "outputId": "4a4b04a3-3a76-4406-98d6-7aa20a1ef358"
   },
   "outputs": [],
   "source": [
    "plot_images_from_subfolders(processed_dir)"
   ]
  },
  {
   "cell_type": "code",
   "execution_count": null,
   "id": "f6fdefef-bcf3-4e17-b0a8-933849663c5e",
   "metadata": {
    "colab": {
     "base_uri": "https://localhost:8080/"
    },
    "executionInfo": {
     "elapsed": 13,
     "status": "ok",
     "timestamp": 1723055562445,
     "user": {
      "displayName": "Bintou Tenning NGOM",
      "userId": "04910365464779581470"
     },
     "user_tz": 0
    },
    "id": "f6fdefef-bcf3-4e17-b0a8-933849663c5e",
    "outputId": "ec46b974-9ea1-403a-fd32-2e61b4695002"
   },
   "outputs": [],
   "source": [
    "# Convertit la liste data en un tableau NumPy.\n",
    "# Spécifie le type de données comme \"float32\" pour la précision et l'efficacité\n",
    "# Divise toutes les valeurs par 255.0, normalisant ainsi les pixels dans la plage [0, 1]\n",
    "data = np.array(data, dtype=\"float32\") / 255.0\n",
    "#Convertit la liste labels en un tableau NumPy pour un traitement ultérieur efficace.\n",
    "labels = np.array(labels)\n",
    "# Crée une instance de LabelBinarizer de scikit-learn qui va encoder les étiquettes textuelles en format numérique\n",
    "mlb = LabelBinarizer()\n",
    "labels = mlb.fit_transform(labels)\n",
    "#Affiche la première étiquette encodée pour vérification.\n",
    "print(labels[0])"
   ]
  },
  {
   "cell_type": "markdown",
   "id": "ba9f0e35-ad66-4150-8efd-efc8ef251c0d",
   "metadata": {
    "id": "ba9f0e35-ad66-4150-8efd-efc8ef251c0d"
   },
   "source": [
    "### 📈✨Apply augmentation to the dataset ✨📈"
   ]
  },
  {
   "cell_type": "code",
   "execution_count": null,
   "id": "a36014e7-70d8-4784-8dc7-b230346be30d",
   "metadata": {
    "executionInfo": {
     "elapsed": 8979,
     "status": "ok",
     "timestamp": 1723055571414,
     "user": {
      "displayName": "Bintou Tenning NGOM",
      "userId": "04910365464779581470"
     },
     "user_tz": 0
    },
    "id": "a36014e7-70d8-4784-8dc7-b230346be30d"
   },
   "outputs": [],
   "source": [
    "final_imgs_data, final_labels_data = increase_dataset(data, labels)"
   ]
  },
  {
   "cell_type": "code",
   "execution_count": null,
   "id": "4b6053ca-9879-4beb-8375-0bb768a5ad11",
   "metadata": {
    "colab": {
     "base_uri": "https://localhost:8080/"
    },
    "executionInfo": {
     "elapsed": 6,
     "status": "ok",
     "timestamp": 1723055571415,
     "user": {
      "displayName": "Bintou Tenning NGOM",
      "userId": "04910365464779581470"
     },
     "user_tz": 0
    },
    "id": "4b6053ca-9879-4beb-8375-0bb768a5ad11",
    "outputId": "86ce0db7-2a7c-419e-be20-edc5010425a9"
   },
   "outputs": [],
   "source": [
    "print(\"Size before augmentation : \",data.shape[0])\n",
    "print(\"Size After augmentation : \",final_imgs_data.shape[0])"
   ]
  },
  {
   "cell_type": "markdown",
   "id": "d6e7c58b-2c47-4433-9654-6b33984d6abf",
   "metadata": {
    "id": "d6e7c58b-2c47-4433-9654-6b33984d6abf"
   },
   "source": [
    "### ✂️✨ Split Data ✨✂️"
   ]
  },
  {
   "cell_type": "code",
   "execution_count": null,
   "id": "a7ef416c-a46e-4b2f-bdbd-95f1026d3b92",
   "metadata": {
    "executionInfo": {
     "elapsed": 996,
     "status": "ok",
     "timestamp": 1723055572407,
     "user": {
      "displayName": "Bintou Tenning NGOM",
      "userId": "04910365464779581470"
     },
     "user_tz": 0
    },
    "id": "a7ef416c-a46e-4b2f-bdbd-95f1026d3b92"
   },
   "outputs": [],
   "source": [
    "x_train, x_val, x_test, y_train, y_val, y_test = split_data(final_imgs_data, final_labels_data)"
   ]
  },
  {
   "cell_type": "code",
   "execution_count": null,
   "id": "3a6ea00d-b840-4598-9a47-a5c76befb51d",
   "metadata": {
    "colab": {
     "base_uri": "https://localhost:8080/"
    },
    "executionInfo": {
     "elapsed": 13,
     "status": "ok",
     "timestamp": 1723055572408,
     "user": {
      "displayName": "Bintou Tenning NGOM",
      "userId": "04910365464779581470"
     },
     "user_tz": 0
    },
    "id": "3a6ea00d-b840-4598-9a47-a5c76befb51d",
    "outputId": "11a2c8da-5db2-4ad1-d6c5-1f98b18ba4f9"
   },
   "outputs": [],
   "source": [
    "# Utilisation de la fonction\n",
    "classes = np.arange(labels.shape[1])\n",
    "\n",
    "# Vérifiez les distributions des classes dans chaque ensemble\n",
    "train_class_distribution = check_class_distribution(y_train, classes)\n",
    "val_class_distribution = check_class_distribution(y_val, classes)\n",
    "test_class_distribution = check_class_distribution(y_test, classes)\n",
    "\n",
    "print(\"Distribution des classes dans l'ensemble d'entraînement :\", train_class_distribution)\n",
    "print(\"Distribution des classes dans l'ensemble de validation :\", val_class_distribution)\n",
    "print(\"Distribution des classes dans l'ensemble de test :\", test_class_distribution)"
   ]
  },
  {
   "cell_type": "markdown",
   "id": "e1876f9e-342a-4608-be8a-ed100f6c448d",
   "metadata": {
    "id": "e1876f9e-342a-4608-be8a-ed100f6c448d"
   },
   "source": [
    "## 🔋✨ Chargement et Config pour les modèles ✨🔋"
   ]
  },
  {
   "cell_type": "markdown",
   "id": "b51a7ae3-3968-4bac-baad-2f802c14f897",
   "metadata": {
    "id": "b51a7ae3-3968-4bac-baad-2f802c14f897"
   },
   "source": [
    "### 📈✨ Définition de eval_metrics ✨📈"
   ]
  },
  {
   "cell_type": "code",
   "execution_count": null,
   "id": "5676a160-f0a6-495f-9106-160edf9b48c1",
   "metadata": {
    "executionInfo": {
     "elapsed": 11,
     "status": "ok",
     "timestamp": 1723055572408,
     "user": {
      "displayName": "Bintou Tenning NGOM",
      "userId": "04910365464779581470"
     },
     "user_tz": 0
    },
    "id": "5676a160-f0a6-495f-9106-160edf9b48c1"
   },
   "outputs": [],
   "source": [
    "def eval_metrics(y_true, y_pred, y_pred_proba):\n",
    "    \"\"\"\n",
    "    Calcule les métriques pour une classification multiclasse.\n",
    "\n",
    "    param y_true: Les vraies étiquettes\n",
    "    param y_pred: Les prédictions du modèle\n",
    "    param y_pred_proba: Les probabilités prédites par le modèle\n",
    "    return: Un dictionnaire contenant les métriques calculées\n",
    "    \"\"\"\n",
    "    # Accuracy\n",
    "    accuracy = accuracy_score(y_true, y_pred)\n",
    "\n",
    "    # Precision, Recall\n",
    "    # y_true et y_pred sont les labels réels et prédits respectivement\n",
    "    precision = precision_score(y_true, y_pred, average='weighted')\n",
    "    recall = recall_score(y_true, y_pred, average='weighted')\n",
    "\n",
    "    # Log Loss\n",
    "    logloss = log_loss(y_true, y_pred_proba)\n",
    "\n",
    "    # ROC AUC (one-vs-rest)\n",
    "    n_classes = y_pred_proba.shape[1]\n",
    "    y_true_bin = label_binarize(y_true, classes=range(n_classes))\n",
    "    roc_auc = {}\n",
    "    for i in range(n_classes):\n",
    "        fpr, tpr, _ = roc_curve(y_true_bin[:, i], y_pred_proba[:, i])\n",
    "        roc_auc[i] = auc(fpr, tpr)\n",
    "\n",
    "    # Moyenne des ROC AUC\n",
    "    mean_roc_auc = np.mean(list(roc_auc.values()))\n",
    "\n",
    "    return {\n",
    "        'accuracy': accuracy,\n",
    "        'precision': precision,\n",
    "        'recall': recall,\n",
    "        'log_loss': logloss,\n",
    "        'roc_auc': roc_auc,\n",
    "        'mean_roc_auc': mean_roc_auc\n",
    "    }\n"
   ]
  },
  {
   "cell_type": "markdown",
   "id": "23ae3df3-a98a-46d7-a787-a912906677f3",
   "metadata": {
    "id": "23ae3df3-a98a-46d7-a787-a912906677f3"
   },
   "source": [
    "### ⚙️✨ Définition des params des modèles ✨⚙️"
   ]
  },
  {
   "cell_type": "markdown",
   "id": "UVMxOXerUNY7",
   "metadata": {
    "id": "UVMxOXerUNY7"
   },
   "source": [
    "#### 📖✨ Define models and parameters to benchmark ✨📖"
   ]
  },
  {
   "cell_type": "code",
   "execution_count": null,
   "id": "38e075c5-b73f-4bde-ac62-0cfa65b64805",
   "metadata": {
    "colab": {
     "base_uri": "https://localhost:8080/"
    },
    "executionInfo": {
     "elapsed": 11,
     "status": "ok",
     "timestamp": 1723055572408,
     "user": {
      "displayName": "Bintou Tenning NGOM",
      "userId": "04910365464779581470"
     },
     "user_tz": 0
    },
    "id": "38e075c5-b73f-4bde-ac62-0cfa65b64805",
    "outputId": "5742bcca-06b0-4160-979a-1b7b18ce1f7d"
   },
   "outputs": [],
   "source": [
    "# Define models and parameters to benchmark\n",
    "ESTIMATOR_PARAMS = {\n",
    "                VGG16.__name__: {\"estimator\": VGG16,\n",
    "                                 \"params\": VGG16_CONFIG\n",
    "                                     },\n",
    "\n",
    "                MobileNetV2.__name__: {\"estimator\": MobileNetV2,\n",
    "                                       \"params\": MOBILENETV2_CONFIG\n",
    "                                           }\n",
    "                    ,\n",
    "                DenseNet121.__name__: {\"estimator\": DenseNet121, \"params\": DENSENET_CONFIG\n",
    "                                                      }\n",
    "}\n",
    "\n",
    "ESTIMATOR_PARAMS"
   ]
  },
  {
   "cell_type": "code",
   "execution_count": null,
   "id": "dd5be158-8d0e-4e62-b1a9-335f007d70f5",
   "metadata": {
    "colab": {
     "base_uri": "https://localhost:8080/"
    },
    "executionInfo": {
     "elapsed": 417,
     "status": "ok",
     "timestamp": 1723055572818,
     "user": {
      "displayName": "Bintou Tenning NGOM",
      "userId": "04910365464779581470"
     },
     "user_tz": 0
    },
    "id": "dd5be158-8d0e-4e62-b1a9-335f007d70f5",
    "outputId": "533f974b-2471-4849-b1b4-6ce9806698eb"
   },
   "outputs": [],
   "source": [
    "for model_name, model_configs in ESTIMATOR_PARAMS.items():\n",
    "    estimator = model_configs[\"estimator\"]\n",
    "    params = model_configs[\"params\"]\n",
    "\n",
    "    print(f\"Model Name: {model_name}\")\n",
    "    print(f\"Estimator: {estimator}\")\n",
    "    print(f\"Params: {params}\")\n",
    "    print(\"=\" * 40)"
   ]
  },
  {
   "cell_type": "markdown",
   "id": "39ece025-ba25-4869-81bb-d68df2323f85",
   "metadata": {
    "id": "39ece025-ba25-4869-81bb-d68df2323f85"
   },
   "source": [
    "### 🔆✨ Config For MLFLOW ✨🔆"
   ]
  },
  {
   "cell_type": "markdown",
   "id": "J_raoQxM-QgY",
   "metadata": {
    "id": "J_raoQxM-QgY"
   },
   "source": []
  },
  {
   "cell_type": "code",
   "execution_count": null,
   "id": "b66f6c67-d333-48a1-9c9a-dccae20d8515",
   "metadata": {
    "colab": {
     "base_uri": "https://localhost:8080/"
    },
    "executionInfo": {
     "elapsed": 7,
     "status": "ok",
     "timestamp": 1723055572818,
     "user": {
      "displayName": "Bintou Tenning NGOM",
      "userId": "04910365464779581470"
     },
     "user_tz": 0
    },
    "id": "b66f6c67-d333-48a1-9c9a-dccae20d8515",
    "outputId": "0fab568c-5f4c-4477-9114-638ab096db4f"
   },
   "outputs": [],
   "source": [
    "# Set the tracking server to be localhost with sqlite as tracking store\n",
    "local_registry = \"sqlite:///mlruns.db\"\n",
    "print(f\"Running local model registry={local_registry}\")\n",
    "mlflow.set_tracking_uri(local_registry)"
   ]
  },
  {
   "cell_type": "markdown",
   "id": "d04edbab-2c4d-408e-b372-23810d44ecdb",
   "metadata": {
    "id": "d04edbab-2c4d-408e-b372-23810d44ecdb"
   },
   "source": [
    "#### Create an experiment"
   ]
  },
  {
   "cell_type": "code",
   "execution_count": null,
   "id": "e2023973-6320-4934-9429-3fc11033c045",
   "metadata": {
    "colab": {
     "base_uri": "https://localhost:8080/"
    },
    "executionInfo": {
     "elapsed": 711,
     "status": "ok",
     "timestamp": 1723055573524,
     "user": {
      "displayName": "Bintou Tenning NGOM",
      "userId": "04910365464779581470"
     },
     "user_tz": 0
    },
    "id": "e2023973-6320-4934-9429-3fc11033c045",
    "outputId": "9a2951bd-3689-4a76-a3f1-970da20600a6"
   },
   "outputs": [],
   "source": [
    "# Create an experiment if not exists\n",
    "exp_name = \"garbage_classification\"\n",
    "experiment = mlflow.get_experiment_by_name(exp_name)\n",
    "if not experiment:\n",
    "    experiment_id = mlflow.create_experiment(exp_name)\n",
    "else:\n",
    "    experiment_id = experiment.experiment_id\n",
    "\n",
    "logger.info(f\"Experience id: {experiment_id}\")\n"
   ]
  },
  {
   "cell_type": "code",
   "execution_count": null,
   "id": "809fe655-ca23-4165-b089-55275d31ef7c",
   "metadata": {
    "executionInfo": {
     "elapsed": 9,
     "status": "ok",
     "timestamp": 1723055573525,
     "user": {
      "displayName": "Bintou Tenning NGOM",
      "userId": "04910365464779581470"
     },
     "user_tz": 0
    },
    "id": "809fe655-ca23-4165-b089-55275d31ef7c"
   },
   "outputs": [],
   "source": [
    "# Créer et configurer le modèle\n",
    "def run_experiment(experiment_id):\n",
    "    global x_train, x_val, x_test, y_train, y_val, y_test\n",
    "\n",
    "    for model_name, model_configs in ESTIMATOR_PARAMS.items():\n",
    "        logger.info(f\"{model_name} \\n{model_configs}\")\n",
    "\n",
    "        #estimator = model_configs[\"estimator\"]\n",
    "        params = model_configs[\"params\"]\n",
    "        print(\"params['epochs'] : \",params['epochs'])\n",
    "        with mlflow.start_run(run_name=f\"garbage_classification_{datetime.now().strftime('%Y%m%d_%H%M%S')}\",\n",
    "                             experiment_id=experiment_id,\n",
    "                              tags={\"version\": \"v1\", \"priority\": \"P1\"},\n",
    "                              description=\"garbage classification modeling\",) as run:\n",
    "            # Enregistre le paramètre du modèle (si applicable)\n",
    "            mlflow.log_param(\"model\", model_name)\n",
    "            #mlflow.log_param(\"input_shape\", params[\"input_shape\"])\n",
    "            epoch_number=params[\"epochs\"]\n",
    "            mlflow.log_params(params)\n",
    "\n",
    "            if model_name == \"DenseNet121\":\n",
    "                DenseNet_model_path=\"registered_models\"\n",
    "                # DenseNet\n",
    "                model, x_train, x_val, x_test, y_train, y_val, y_test = build_densenet_model(DENSENET_CONFIG, data, labels)\n",
    "                # Utilisation de la fonction pour entraîner le modèle et récupérer l'historique et les paramètres\n",
    "                history, training_params = train_densenet_model(model, DENSENET_CONFIG, x_train, y_train, x_val, y_val,model_path=DenseNet_model_path)\n",
    "\n",
    "                # Utilisation de la fonction\n",
    "                y_pred_proba = model.predict(x_test)  # Probabilités prédites\n",
    "                y_pred = np.argmax(y_pred_proba, axis=1)  # Classes prédites\n",
    "\n",
    "                if y_test.ndim == 2:\n",
    "                    y_test2 = np.argmax(y_test, axis=1)\n",
    "\n",
    "                # Appeler la fonction eval_metrics\n",
    "                metrics = eval_metrics(y_test2, y_pred, y_pred_proba)\n",
    "\n",
    "                # Enregistrer le modèle avec la signature\n",
    "                signature = infer_signature(x_test, y_pred_proba)\n",
    "                #mlflow.keras.log_model(model, artifact_path=\"model\", signature=signature)\n",
    "                mlflow.keras.log_model(model, artifact_path=\"model\", signature=signature, registered_model_name=model_name)\n",
    "\n",
    "            # Pour MobileNetV2\n",
    "            elif model_name == \"MobileNetV2\":\n",
    "\n",
    "                patience=params[\"patience\"]\n",
    "\n",
    "                # Créer le modèle\n",
    "                model, params = create_mobilenetv2_model(params[\"input_shape\"], params[\"num_classes\"], params[\"learning_rate\"])\n",
    "\n",
    "                # Entraîner le modèle\n",
    "                history = train_mobilenetv2_model(model, x_train, y_train, x_val, y_val, epoch_number, patience)\n",
    "\n",
    "                # Tester le modèle\n",
    "                results, y_pred_proba = test_mobilenetv2_model(model, x_test, y_test,class_names)\n",
    "\n",
    "\n",
    "                # Extraire les classes prédites et réelles\n",
    "                y_pred = [class_names.index(pred) for pred, _ in results]\n",
    "                y_true = [class_names.index(real) for _, real in results]\n",
    "\n",
    "                # Évaluer les métriques du modèle\n",
    "                metrics = eval_metrics(y_true, y_pred, y_pred_proba)\n",
    "\n",
    "                # Enregistrer le modèle avec la signature\n",
    "                signature = infer_signature(x_test, y_pred_proba)\n",
    "                #mlflow.keras.log_model(model, artifact_path=\"model\", signature=signature)\n",
    "                mlflow.keras.log_model(model, artifact_path=\"model\", signature=signature, registered_model_name=model_name)\n",
    "\n",
    "            elif model_name == \"VGG16\":\n",
    "                # VGG16 example\n",
    "                model = create_vgg16_model(VGG16_CONFIG)\n",
    "\n",
    "                train_loader, val_loader, test_loader = create_data_loaders_for_vgg16(x_train, x_val, x_test, y_train, y_val, y_test,VGG16_CONFIG)\n",
    "                trained_vgg16 = train_vgg16_model(model, train_loader, val_loader, VGG16_CONFIG)\n",
    "\n",
    "                # Utilisation de la fonction\n",
    "                y_pred_proba,metrics = test_model_vgg16(trained_vgg16, test_loader)\n",
    "                #print(\"Metrics on the test set:\")\n",
    "                #print(metrics)\n",
    "                # Enregistrer le modèle avec la signature\n",
    "                signature = infer_signature(x_test, y_pred_proba)\n",
    "                # mlflow.pytorch.log_model pour les modèles PyTorch\n",
    "                mlflow.pytorch.log_model(model, artifact_path=\"model\", signature=signature, registered_model_name=model_name)\n",
    "\n",
    "            # Log des métriques\n",
    "            mlflow.log_metric(\"test_accuracy\", metrics['accuracy'])\n",
    "            mlflow.log_metric(\"test_precision\", metrics['precision'])\n",
    "            mlflow.log_metric(\"test_recall\", metrics['recall'])\n",
    "            mlflow.log_metric(\"test_log_loss\", metrics['log_loss'])\n",
    "            mlflow.log_metric(\"test_mean_roc_auc\", metrics['mean_roc_auc'])\n",
    "\n",
    "            # Log des ROC AUC pour chaque classe\n",
    "            for class_index, class_roc_auc in metrics['roc_auc'].items():\n",
    "                mlflow.log_metric(f\"test_roc_auc_class_{class_index}\", class_roc_auc)\n",
    "\n",
    "            if not os.path.exists(\"outputs\"):\n",
    "                os.makedirs(\"outputs\")\n",
    "            with open(\"outputs/test.txt\", \"w\") as f:\n",
    "                f.write(\"Looks, like I logged to the local store!\")\n",
    "            log_artifacts(\"outputs\")\n",
    "            shutil.rmtree('outputs')\n",
    "\n",
    "            print(f\"Model run logged to MLflow with run_id: {run.info.run_id}\")\n"
   ]
  },
  {
   "cell_type": "code",
   "execution_count": null,
   "id": "11c1c8a1-8ce0-4786-b0d1-5d497ff505a3",
   "metadata": {
    "colab": {
     "base_uri": "https://localhost:8080/"
    },
    "executionInfo": {
     "elapsed": 913239,
     "status": "ok",
     "timestamp": 1723057762567,
     "user": {
      "displayName": "Bintou Tenning NGOM",
      "userId": "04910365464779581470"
     },
     "user_tz": 0
    },
    "id": "11c1c8a1-8ce0-4786-b0d1-5d497ff505a3",
    "outputId": "b84c94d5-72ef-4d5e-f5e7-17d9c8130058"
   },
   "outputs": [],
   "source": [
    "# Exécuter l'expérience\n",
    "run_experiment(experiment_id)"
   ]
  },
  {
   "cell_type": "markdown",
   "id": "1137cfd1-55ec-4187-b195-fab1a243e641",
   "metadata": {
    "id": "1137cfd1-55ec-4187-b195-fab1a243e641"
   },
   "source": [
    "### 🧑🏽‍💻✨ Access to the MLFLOW UI ✨🧑🏽‍💻"
   ]
  },
  {
   "cell_type": "code",
   "execution_count": null,
   "id": "d543c85c-c1ca-4027-92e3-e8797428bcdc",
   "metadata": {
    "executionInfo": {
     "elapsed": 665,
     "status": "ok",
     "timestamp": 1723057763230,
     "user": {
      "displayName": "Bintou Tenning NGOM",
      "userId": "04910365464779581470"
     },
     "user_tz": 0
    },
    "id": "d543c85c-c1ca-4027-92e3-e8797428bcdc"
   },
   "outputs": [],
   "source": [
    "# run tracking UI in the background\n",
    "get_ipython().system_raw(\"mlflow ui --backend-store-uri sqlite:///mlruns.db --port 5000 &\")# run tracking UI in the background"
   ]
  },
  {
   "cell_type": "code",
   "execution_count": null,
   "id": "4a6e0852-fe3a-409e-9da5-25454b79954f",
   "metadata": {
    "colab": {
     "base_uri": "https://localhost:8080/"
    },
    "executionInfo": {
     "elapsed": 593,
     "status": "ok",
     "timestamp": 1723057763822,
     "user": {
      "displayName": "Bintou Tenning NGOM",
      "userId": "04910365464779581470"
     },
     "user_tz": 0
    },
    "id": "4a6e0852-fe3a-409e-9da5-25454b79954f",
    "outputId": "5b1fc074-033d-4254-f6b5-366a2e2ea587"
   },
   "outputs": [],
   "source": [
    "\n",
    "# Terminate open tunnels if they exist\n",
    "ngrok.kill()\n",
    "\n",
    "# Setting the authtoken (optional)\n",
    "NGROK_AUTH_TOKEN = \"2kD0rcbkl66GfLcWrG5GeU0GZ1w_7x9onfXmmEUvwCS3pBWs6\"  # Replace with your actual ngrok auth token\n",
    "ngrok.set_auth_token(NGROK_AUTH_TOKEN)\n",
    "\n",
    "# Open an HTTPs tunnel on port 5000 for http://localhost:5000\n",
    "public_url = ngrok.connect(5000, bind_tls=True)\n",
    "print(\"MLflow Tracking UI:\", public_url)\n"
   ]
  },
  {
   "cell_type": "markdown",
   "id": "gy4a4CeK0jo0",
   "metadata": {
    "id": "gy4a4CeK0jo0"
   },
   "source": []
  },
  {
   "cell_type": "code",
   "execution_count": null,
   "id": "ktRnVgn-owLY",
   "metadata": {
    "executionInfo": {
     "elapsed": 1,
     "status": "ok",
     "timestamp": 1723057763822,
     "user": {
      "displayName": "Bintou Tenning NGOM",
      "userId": "04910365464779581470"
     },
     "user_tz": 0
    },
    "id": "ktRnVgn-owLY"
   },
   "outputs": [],
   "source": []
  }
 ],
 "metadata": {
  "accelerator": "GPU",
  "colab": {
   "collapsed_sections": [
    "ZpVg1QH2pco2",
    "6OUJTWW8qJUw"
   ],
   "gpuType": "T4",
   "provenance": []
  },
  "kernelspec": {
   "display_name": "Python 3 (ipykernel)",
   "language": "python",
   "name": "python3"
  },
  "language_info": {
   "codemirror_mode": {
    "name": "ipython",
    "version": 3
   },
   "file_extension": ".py",
   "mimetype": "text/x-python",
   "name": "python",
   "nbconvert_exporter": "python",
   "pygments_lexer": "ipython3",
   "version": "3.12.7"
  }
 },
 "nbformat": 4,
 "nbformat_minor": 5
}
